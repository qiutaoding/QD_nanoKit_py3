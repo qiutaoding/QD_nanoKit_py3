{
 "cells": [
  {
   "cell_type": "code",
   "execution_count": 1,
   "metadata": {},
   "outputs": [],
   "source": [
    "import os\n",
    "os.chdir('F:\\\\nanopore_data\\\\telomere\\\\AF16_extract')\n",
    "import pandas as pd\n",
    "from Bio import SeqIO\n",
    "from Bio import Seq"
   ]
  },
  {
   "cell_type": "code",
   "execution_count": null,
   "metadata": {},
   "outputs": [],
   "source": [
    "#IL\n",
    "for stage in stg:\n",
    "    position = \"IL\"\n",
    "\"\"\"\n",
    "stopped  here\n",
    "\"\"\"\n",
    "    anchor = \"X:17708805-17718805\"\n",
    "    #file name module\n",
    "    read_dict_fh = str(\"fasta/%s_%s.fa\" % (stage,position))\n",
    "    align_info_fh = str(\"blastn/%s_%s_direction.csv\" % (stage,position))\n",
    "    read_list_fh = str(\"list_filter/%s_%s_list\" % (stage,position))\n",
    "    output_fh = str(\"trimmed/%s_%s_read.fa\" % (stage,position))\n",
    "    #read inputed for consistant coding direction\n",
    "    read_dict = SeqIO.index(read_dict_fh, \"fasta\")\n",
    "    align_info = pd.read_csv(align_info_fh, sep = \"\\t\",header=None,index_col=False)\n",
    "    align_info.columns = [\"query\", \"subject\", \"identity\", \"length\", \"mis\",\"gap\",\"qstart\",\"qend\",\"sstart\",\"send\",\"evalue\",\"bit\",\"strand\"]\n",
    "    with open(output_fh,\"w\") as out_w,open(read_list_fh,\"r\") as read_list :\n",
    "        for line in read_list:\n",
    "            readName = line.rstrip()\n",
    "            read_seq = str(read_dict[readName].seq)\n",
    "            df_tmp = align_info[(align_info[\"subject\"]== readName)&\\\n",
    "                                (align_info[\"length\"] > 500)&\\\n",
    "                                (align_info[\"query\"] == anchor)&\\\n",
    "                                (align_info[\"qend\"] > 9900)]\n",
    "            #print(stage, readName)\n",
    "            if  str(df_tmp.iloc[0,-1]) == \"plus\" :\n",
    "                telomere_end = df_tmp[\"send\"].max()\n",
    "                out_seq = read_seq[telomere_end:]\n",
    "                if len(out_seq) < 10:\n",
    "                    continue\n",
    "                else:\n",
    "                    out_w.write(str(\">%s\\n\" %(readName)))\n",
    "                    out_w.write(out_seq+\"\\n\")\n",
    "            else:\n",
    "                telomere_end = df_tmp[\"send\"].min()\n",
    "                out_seq = Seq.reverse_complement(read_seq[:telomere_end-1])\n",
    "                if len(out_seq) < 10:\n",
    "                    continue\n",
    "                else:\n",
    "                    out_w.write(str(\">%s\\n\" %(readName)))\n",
    "                    out_w.write(out_seq+\"\\n\")\n",
    "    out_w.close()\n",
    "    read_list.close()"
   ]
  }
 ],
 "metadata": {
  "kernelspec": {
   "display_name": "Python 3",
   "language": "python",
   "name": "python3"
  },
  "language_info": {
   "codemirror_mode": {
    "name": "ipython",
    "version": 3
   },
   "file_extension": ".py",
   "mimetype": "text/x-python",
   "name": "python",
   "nbconvert_exporter": "python",
   "pygments_lexer": "ipython3",
   "version": "3.7.0"
  }
 },
 "nbformat": 4,
 "nbformat_minor": 2
}
