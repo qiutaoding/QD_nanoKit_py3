{
 "cells": [
  {
   "cell_type": "code",
   "execution_count": 1,
   "metadata": {},
   "outputs": [],
   "source": [
    "import os\n",
    "os.chdir('F:\\\\nanopore_data\\\\JUfosmid\\\\seperation\\\\')"
   ]
  },
  {
   "cell_type": "code",
   "execution_count": 2,
   "metadata": {},
   "outputs": [
    {
     "data": {
      "text/plain": [
       "'F:\\\\nanopore_data\\\\JUfosmid\\\\seperation'"
      ]
     },
     "execution_count": 2,
     "metadata": {},
     "output_type": "execute_result"
    }
   ],
   "source": [
    "os.getcwd()"
   ]
  },
  {
   "cell_type": "code",
   "execution_count": 56,
   "metadata": {
    "scrolled": true
   },
   "outputs": [
    {
     "name": "stdout",
     "output_type": "stream",
     "text": [
      "113M\ttrim/trim_barcode01.fa\n",
      "189M\ttrim/trim_barcode02.fa\n",
      "27M\ttrim/trim_barcode03.fa\n",
      "133M\ttrim/trim_barcode04.fa\n",
      "225M\ttrim/trim_barcode05.fa\n",
      "214M\ttrim/trim_barcode06.fa\n",
      "156M\ttrim/trim_barcode07.fa\n",
      "110M\ttrim/trim_barcode08.fa\n",
      "158M\ttrim/trim_barcode09.fa\n",
      "116M\ttrim/trim_barcode10.fa\n",
      "236M\ttrim/trim_barcode11.fa\n",
      "112M\ttrim/trim_barcode12.fa\n",
      "71M\ttrim/trim_barcode13.fa\n",
      "204M\ttrim/trim_barcode14.fa\n",
      "110M\ttrim/trim_barcode15.fa\n",
      "246M\ttrim/trim_barcode16.fa\n",
      "154M\ttrim/trim_barcode17.fa\n",
      "168M\ttrim/trim_barcode18.fa\n",
      "176M\ttrim/trim_barcode19.fa\n",
      "99M\ttrim/trim_barcode20.fa\n",
      "122M\ttrim/trim_barcode21.fa\n",
      "158M\ttrim/trim_barcode22.fa\n",
      "178M\ttrim/trim_barcode23.fa\n",
      "211M\ttrim/trim_barcode24.fa\n",
      "141M\ttrim/trim_barcode25.fa\n",
      "217M\ttrim/trim_barcode26.fa\n",
      "48M\ttrim/trim_barcode27.fa\n",
      "280M\ttrim/trim_barcode28.fa\n",
      "291M\ttrim/trim_barcode29.fa\n",
      "351M\ttrim/trim_barcode30.fa\n",
      "271M\ttrim/trim_barcode31.fa\n",
      "237M\ttrim/trim_barcode32.fa\n",
      "186M\ttrim/trim_barcode33.fa\n",
      "300M\ttrim/trim_barcode34.fa\n",
      "268M\ttrim/trim_barcode35.fa\n",
      "164M\ttrim/trim_barcode36.fa\n",
      "123M\ttrim/trim_barcode37.fa\n",
      "286M\ttrim/trim_barcode38.fa\n",
      "195M\ttrim/trim_barcode39.fa\n",
      "212M\ttrim/trim_barcode40.fa\n",
      "252M\ttrim/trim_barcode41.fa\n",
      "245M\ttrim/trim_barcode42.fa\n",
      "230M\ttrim/trim_barcode43.fa\n",
      "156M\ttrim/trim_barcode44.fa\n",
      "255M\ttrim/trim_barcode45.fa\n",
      "377M\ttrim/trim_barcode46.fa\n",
      "302M\ttrim/trim_barcode47.fa\n",
      "181M\ttrim/trim_barcode48.fa\n"
     ]
    }
   ],
   "source": [
    "%%bash\n",
    "du -hsc trim/* |grep fa"
   ]
  },
  {
   "cell_type": "code",
   "execution_count": 3,
   "metadata": {},
   "outputs": [],
   "source": [
    "import pandas as pd\n",
    "from Bio import SeqIO"
   ]
  },
  {
   "cell_type": "code",
   "execution_count": 4,
   "metadata": {},
   "outputs": [],
   "source": [
    "def fileName(j=3):\n",
    "    if j <10:\n",
    "        i = \"barcode0\"+str(j)\n",
    "    else:\n",
    "        i = \"barcode\"+str(j)\n",
    "    return(i)\n"
   ]
  },
  {
   "cell_type": "code",
   "execution_count": 6,
   "metadata": {},
   "outputs": [],
   "source": [
    "barcoder=fileName(3)"
   ]
  },
  {
   "cell_type": "code",
   "execution_count": 13,
   "metadata": {
    "scrolled": true
   },
   "outputs": [],
   "source": [
    "triminfo_fh = str(\"blastn_backbone_info_filtered/%s.csv\" % barcoder)\n",
    "fasta_fh = str(\"read_with_backbone/%s.fa\" % barcoder)\n",
    "output_fh = str(\"read_trimmed/trimmed_%s.fa\" % barcoder)\n",
    "trimminfo = pd.read_csv(triminfo_fh, sep = \"\\t\", index_col = 0,header=None,names=[\"start\",\"end\",\"strand\",\"alignlength\"])\n",
    "record_dict = SeqIO.index(fasta_fh, \"fasta\")"
   ]
  },
  {
   "cell_type": "code",
   "execution_count": 20,
   "metadata": {},
   "outputs": [
    {
     "name": "stdout",
     "output_type": "stream",
     "text": [
      "44b73770-d1c6-40f4-979b-8e069e21c2a8\n",
      "f6660d39-eabb-4893-8b3f-cd61adbd03e0\n",
      "c5c089c6-8f65-41ba-a0d1-145ae651ac55\n",
      "b2fda24f-ef82-4b4e-a6ec-279b11aed47b\n",
      "3ded4e78-ba29-4107-8a20-6a753122022d\n"
     ]
    }
   ],
   "source": [
    "#!/usr/bin/env python3\n",
    "#Data 2019/07/15\n",
    "#Auther: Qiutao DING, PhD candicate\n",
    "#Department of Biology, Hong Kong Baptist University, Hong Kong, China\n",
    "#Contact: qiutaod@gmail.com \n",
    "import os\n",
    "import pandas as pd\n",
    "from Bio import SeqIO\n",
    "import argparse\n",
    "\n",
    "def fileName(j=3):\n",
    "    if int(j) <10:\n",
    "        i = \"barcode0\"+str(j)\n",
    "    else:\n",
    "        i = \"barcode\"+str(j)\n",
    "    return(i)\n",
    "\n",
    "def trimming(barcoder):\n",
    "    triminfo_fh = str(\"blastn_backbone_info_filtered/%s.csv\" % barcoder)\n",
    "    fasta_fh = str(\"read_with_backbone/%s.fa\" % barcoder)\n",
    "    output_fh = str(\"read_trimmed/trimmed_%s.fa\" % barcoder)\n",
    "    trimminfo = pd.read_csv(triminfo_fh, sep = \"\\t\", index_col = 0,header=None,names=[\"start\",\"end\",\"strand\",\"alignlength\"])\n",
    "    record_dict = SeqIO.index(fasta_fh, \"fasta\")\n",
    "    with open(output_fh,\"w\") as fw:\n",
    "        for readid in trimminfo.index:\n",
    "            readinfo = trimminfo.loc[readid,]\n",
    "            qstart = readinfo.start\n",
    "            qstop = readinfo.end\n",
    "            qstrand = readinfo.strand\n",
    "            read = record_dict[readid]\n",
    "            seq_L = \"\"\n",
    "            seq_R = \"\"\n",
    "            if qstrand == \"+\":\n",
    "                if len(read) - qstop >= 100 and qstart >= 100:\n",
    "                    seq_L = str(read.seq)[:qstart-1]\n",
    "                    header_L = str(\">%s_L len:%i strand:%s\\n\" % (read.id, len(seq_L), qstrand))\n",
    "                    fw.write(header_L)\n",
    "                    fw.write(seq_L+\"\\n\")\n",
    "                    seq_R = str(read.seq)[qstop :]\n",
    "                    header_R = str(\">%s_R len:%i strand:%s\\n\" % (read.id, len(seq_R), qstrand))\n",
    "                    fw.write(header_R)\n",
    "                    fw.write(seq_R+\"\\n\")\n",
    "                elif len(read) - qstop >= 100: \n",
    "                    # right flanking only\n",
    "                    seq_R = str(read.seq)[qstop :]\n",
    "                    header_R = str(\">%s_R len:%i strand:%s\\n\" % (read.id, len(seq_R), qstrand))\n",
    "                    fw.write(header_R)\n",
    "                    fw.write(seq_R+\"\\n\")\n",
    "                elif qstart >= 100: \n",
    "                    # left flanking only\n",
    "                    seq_L = str(read.seq)[:qstart-1]\n",
    "                    header_L = str(\">%s_L len:%i strand:%s\\n\" % (read.id, len(seq_L), qstrand))\n",
    "                    fw.write(header_L)\n",
    "                    fw.write(seq_L+\"\\n\")\n",
    "            elif qstrand == \"-\":\n",
    "                if len(read) - qstop >= 100 and qstart >= 100: \n",
    "                    seq_L = str(read.seq[qstop:].reverse_complement())\n",
    "                    seq_R = str(read.seq[:qstart-1].reverse_complement())\n",
    "                    header_L = str(\">%s_L len:%i strand:%s\\n\" % (read.id, len(seq_L), qstrand))\n",
    "                    fw.write(header_L)\n",
    "                    fw.write(seq_L+\"\\n\")\n",
    "                    header_R = str(\">%s_R len:%i strand:%s\\n\" % (read.id, len(seq_R), qstrand))\n",
    "                    fw.write(header_R)\n",
    "                    fw.write(seq_R+\"\\n\")\n",
    "                elif len(read) - qstop >= 100: \n",
    "                    seq_L = str(read.seq[qstop:].reverse_complement())\n",
    "                    header_L = str(\">%s_L len:%i strand:%s\\n\" % (read.id, len(seq_L), qstrand))\n",
    "                    fw.write(header_L)\n",
    "                    fw.write(seq_L+\"\\n\")\n",
    "                elif qstart >= 100: \n",
    "                    seq_R = str(read.seq[:qstart-1].reverse_complement())\n",
    "                    header_R = str(\">%s_R len:%i strand:%s\\n\" % (read.id, len(seq_R), qstrand))\n",
    "                    fw.write(header_R)\n",
    "                    fw.write(seq_R+\"\\n\") \n",
    "    fw.close()\n",
    "if __name__ == \"__main__\":\n",
    "    parser = argparse.ArgumentParser(description = \"\"\"\n",
    "    will be added in the furture\n",
    "    \"\"\")\n",
    "    parser.add_argument(\"-b\", \"--barcode\", help = \"barcode number\")\n",
    "    args = parser.parse_args()\n",
    "    #function calling\n",
    "    trimming(fileName(args.barcode))\n",
    "    print(\"Finished\",fileName(args.barcode))"
   ]
  },
  {
   "cell_type": "code",
   "execution_count": null,
   "metadata": {},
   "outputs": [],
   "source": []
  }
 ],
 "metadata": {
  "kernelspec": {
   "display_name": "Python 3",
   "language": "python",
   "name": "python3"
  },
  "language_info": {
   "codemirror_mode": {
    "name": "ipython",
    "version": 3
   },
   "file_extension": ".py",
   "mimetype": "text/x-python",
   "name": "python",
   "nbconvert_exporter": "python",
   "pygments_lexer": "ipython3",
   "version": "3.7.0"
  }
 },
 "nbformat": 4,
 "nbformat_minor": 2
}
