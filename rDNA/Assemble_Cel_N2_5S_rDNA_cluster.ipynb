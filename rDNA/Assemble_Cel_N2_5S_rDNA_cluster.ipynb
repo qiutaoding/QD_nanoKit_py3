{
 "cells": [
  {
   "cell_type": "code",
   "execution_count": 1,
   "metadata": {},
   "outputs": [],
   "source": [
    "import os\n",
    "#move to working directory with 5S rDNA unti sequences\n",
    "os.chdir(\"/mnt/f/nanopore_data/rDNA/recall_rdna_analysis/5S_assembly/Cel_5S_unit/\")\n",
    "def readFa(readName):\n",
    "    filename=str(readName)+\".fa\"\n",
    "    sequence=\"\"\n",
    "    with open(filename,'r') as fh:\n",
    "        for line in fh:\n",
    "            if not line.startswith('>'):\n",
    "                sequence += line.rstrip()\n",
    "    output=sequence\n",
    "    return(output)\n",
    "from Bio.Seq import Seq"
   ]
  },
  {
   "cell_type": "code",
   "execution_count": 4,
   "metadata": {},
   "outputs": [],
   "source": [
    "V_left=readFa(\"V\")[:17120013].rstrip()#cluster left\n",
    "V_right=readFa(\"V\")[17133656:].rstrip()#clster right\n",
    "#V_left=readFa(\"V\")[17020013:17120013].rstrip()#cluster left\n",
    "#V_right=readFa(\"V\")[17133656:17233656].rstrip()#clster right\n",
    "#unit 1 sequences reading\n",
    "start_5s = readFa(\"unit_1_1\")[196:]\n",
    "cel_5s_1_1 = readFa(\"unit_1_1\").rstrip()\n",
    "cel_5s_1_2 =readFa(\"unit_1_2\").rstrip()\n",
    "cel_5s_1_3 = readFa(\"unit_1_3\").rstrip()\n",
    "cel_5s_1_4 = readFa(\"unit_1_4\").rstrip()\n",
    "cel_5s_1_5 = readFa(\"unit_1_5\").rstrip()\n",
    "cel_5s_1_6 = readFa(\"unit_1_6\").rstrip()\n",
    "#unit 2 sequences reading\n",
    "cel_5s_2_1 = readFa(\"unit_2_1\").rstrip()\n",
    "cel_5s_2_2 = readFa(\"unit_2_2\").rstrip()\n",
    "cel_5s_2_3 = readFa(\"unit_2_3\").rstrip()\n",
    "cel_5s_2_4 = readFa(\"unit_2_4\").rstrip()\n",
    "cel_5s_2_5 = readFa(\"unit_2_5\").rstrip()\n",
    "cel_5s_2_6 = readFa(\"unit_2_6\").rstrip()\n",
    "cel_5s_2_7 = readFa(\"unit_2_7\").rstrip()\n",
    "cel_5s_2_8 = readFa(\"unit_2_8\").rstrip()\n",
    "cel_5s_2_9 = readFa(\"unit_2_9\").rstrip()\n",
    "cel_5s_2_10 = readFa(\"unit_2_10\").rstrip()\n",
    "cel_5s_2_11 = readFa(\"unit_2_11\").rstrip()\n",
    "cel_5s_2_12 = readFa(\"unit_2_12\").rstrip()\n",
    "cel_5s_2_13 = readFa(\"unit_2_13\").rstrip()\n",
    "#unit 3 sequences reading\n",
    "cel_5s_3_1 = readFa(\"unit_3_1\").rstrip()\n",
    "cel_5s_3_2 = readFa(\"unit_3_2\").rstrip()\n",
    "cel_5s_3_3 = readFa(\"unit_3_3\").rstrip()\n",
    "#boundary and anchors sequences reading\n",
    "transition = readFa(\"Repeat1a\").rstrip()\n",
    "transition_right_5s=readFa(\"unit_1_1\")[951:]\n",
    "#transition left unit sequences\n",
    "transition_left_2_2=readFa(\"unit_2_2\")[0:942]\n",
    "transition_left_2_9=readFa(\"unit_2_9\")[0:946]\n",
    "transition_left_2_13=readFa(\"unit_2_13\")[0:884]"
   ]
  },
  {
   "cell_type": "code",
   "execution_count": 5,
   "metadata": {},
   "outputs": [],
   "source": [
    "#add rDNA component , note only 9X 1.1 were added to the cluster\n",
    "V_new= V_left + start_5s + 14 * cel_5s_1_1 + 2 * cel_5s_1_6 + 8 * cel_5s_1_1 + \\\n",
    "cel_5s_2_1 + cel_5s_1_1 + 4 * (cel_5s_2_1 + cel_5s_2_3) + cel_5s_2_3 + \\\n",
    "cel_5s_2_1 + cel_5s_2_3 + 2 * cel_5s_1_1 + cel_5s_2_1 + cel_5s_1_1 + \\\n",
    "2*cel_5s_2_1 + 3*(cel_5s_2_3 +cel_5s_2_1) +2 *cel_5s_2_3+cel_5s_2_1+cel_5s_2_3+ \\\n",
    "2*(2 *cel_5s_2_1+ cel_5s_2_3) +\\\n",
    "cel_5s_3_1 + cel_5s_2_3 + cel_5s_1_2 + cel_5s_1_3 + cel_5s_1_1 + cel_5s_3_1 + \\\n",
    "cel_5s_2_3 + cel_5s_3_1 + cel_5s_2_1 + cel_5s_1_3 + cel_5s_1_5 + cel_5s_3_3 + \\\n",
    "cel_5s_2_1 + cel_5s_1_3 + cel_5s_1_5 + cel_5s_3_1 + cel_5s_2_4 + cel_5s_1_5 + \\\n",
    "cel_5s_2_1 + cel_5s_3_1 + cel_5s_3_2 + cel_5s_2_4 + cel_5s_3_1 + 2*cel_5s_3_2+ \\\n",
    "cel_5s_1_3 + cel_5s_1_5 + cel_5s_3_1 + \\\n",
    "cel_5s_2_1 + cel_5s_1_5 + cel_5s_2_6 + cel_5s_1_4 + cel_5s_1_2 + cel_5s_1_5 + \\\n",
    "cel_5s_2_2 + cel_5s_2_11+2*cel_5s_2_2+ cel_5s_2_10+ cel_5s_2_2 + cel_5s_2_9 + \\\n",
    "cel_5s_2_11+2*cel_5s_2_2+ cel_5s_2_11+2*cel_5s_2_2+ cel_5s_2_10+ cel_5s_2_2 + \\\n",
    "cel_5s_2_9 + cel_5s_2_11+2*cel_5s_2_2+ cel_5s_2_9 + cel_5s_2_2 + cel_5s_2_10 + \\\n",
    "cel_5s_2_2 + transition_left_2_9 + transition + transition_right_5s + \\\n",
    "cel_5s_2_2 + transition_left_2_9 + transition + transition_right_5s + \\\n",
    "2 * cel_5s_2_8 + 2 * cel_5s_2_9 + 2 * cel_5s_2_8 + transition_left_2_2 +\\\n",
    "transition + transition_right_5s + \\\n",
    "cel_5s_2_8 +2*cel_5s_2_9+ cel_5s_2_8+ cel_5s_2_12+ cel_5s_2_1 + cel_5s_2_7 + \\\n",
    "cel_5s_2_1 + cel_5s_2_12+ cel_5s_2_1 + cel_5s_2_5 + 5*cel_5s_2_1+ \\\n",
    "transition_left_2_13 + \\\n",
    "transition[124:1552] + V_right"
   ]
  },
  {
   "cell_type": "code",
   "execution_count": 6,
   "metadata": {},
   "outputs": [],
   "source": [
    "#write files out as fasta file\n",
    "fh=open(\"Cel_N2_chrV_20201005.fa\",\"w\")\n",
    "fh.write(\">V\\n\")\n",
    "fh.write(str(V_new)+\"\\n\")\n",
    "fh.close()"
   ]
  },
  {
   "cell_type": "code",
   "execution_count": 7,
   "metadata": {},
   "outputs": [],
   "source": [
    "V_cluster =  start_5s + 14 * cel_5s_1_1 + 2 * cel_5s_1_6 + 8 * cel_5s_1_1 + \\\n",
    "cel_5s_2_1 + cel_5s_1_1 + 4 * (cel_5s_2_1 + cel_5s_2_3) + cel_5s_2_3 + \\\n",
    "cel_5s_2_1 + cel_5s_2_3 + 2 * cel_5s_1_1 + cel_5s_2_1 + cel_5s_1_1 + \\\n",
    "2*cel_5s_2_1 + 3*(cel_5s_2_3 +cel_5s_2_1) +2 *cel_5s_2_3+cel_5s_2_1+cel_5s_2_3+ \\\n",
    "2*(2 *cel_5s_2_1+ cel_5s_2_3) +\\\n",
    "cel_5s_3_1 + cel_5s_2_3 + cel_5s_1_2 + cel_5s_1_3 + cel_5s_1_1 + cel_5s_3_1 + \\\n",
    "cel_5s_2_3 + cel_5s_3_1 + cel_5s_2_1 + cel_5s_1_3 + cel_5s_1_5 + cel_5s_3_3 + \\\n",
    "cel_5s_2_1 + cel_5s_1_3 + cel_5s_1_5 + cel_5s_3_1 + cel_5s_2_4 + cel_5s_1_5 + \\\n",
    "cel_5s_2_1 + cel_5s_3_1 + cel_5s_3_2 + cel_5s_2_4 + cel_5s_3_1 + 2*cel_5s_3_2+ \\\n",
    "cel_5s_1_3 + cel_5s_1_5 + cel_5s_3_1 + \\\n",
    "cel_5s_2_1 + cel_5s_1_5 + cel_5s_2_6 + cel_5s_1_4 + cel_5s_1_2 + cel_5s_1_5 + \\\n",
    "cel_5s_2_2 + cel_5s_2_11+2*cel_5s_2_2+ cel_5s_2_10+ cel_5s_2_2 + cel_5s_2_9 + \\\n",
    "cel_5s_2_11+2*cel_5s_2_2+ cel_5s_2_11+2*cel_5s_2_2+ cel_5s_2_10+ cel_5s_2_2 + \\\n",
    "cel_5s_2_9 + cel_5s_2_11+2*cel_5s_2_2+ cel_5s_2_9 + cel_5s_2_2 + cel_5s_2_10 + \\\n",
    "cel_5s_2_2 + transition_left_2_9 + transition + transition_right_5s + \\\n",
    "cel_5s_2_2 + transition_left_2_9 + transition + transition_right_5s + \\\n",
    "2 * cel_5s_2_8 + 2 * cel_5s_2_9 + 2 * cel_5s_2_8 + transition_left_2_2 +\\\n",
    "transition + transition_right_5s + \\\n",
    "cel_5s_2_8 +2*cel_5s_2_9+ cel_5s_2_8+ cel_5s_2_12+ cel_5s_2_1 + cel_5s_2_7 + \\\n",
    "cel_5s_2_1 + cel_5s_2_12+ cel_5s_2_1 + cel_5s_2_5 + 5*cel_5s_2_1+ \\\n",
    "transition_left_2_13 + \\\n",
    "transition[124:1552]\n",
    "fh=open(\"Cel_N2_5S_rDNA_cluster_20201005.fa\",\"w\")\n",
    "fh.write(\">Cel_N2_5S_rDNA_cluster\\n\")\n",
    "fh.write(str(V_cluster)+\"\\n\")\n",
    "fh.close()"
   ]
  },
  {
   "cell_type": "code",
   "execution_count": 8,
   "metadata": {},
   "outputs": [],
   "source": [
    "%%bash\n",
    "samtools faidx Cel_N2_5S_rDNA_cluster_20201005.fa\n",
    "samtools faidx Cel_N2_chrV_20201005.fa"
   ]
  }
 ],
 "metadata": {
  "kernelspec": {
   "display_name": "Python 3",
   "language": "python",
   "name": "python3"
  },
  "language_info": {
   "codemirror_mode": {
    "name": "ipython",
    "version": 3
   },
   "file_extension": ".py",
   "mimetype": "text/x-python",
   "name": "python",
   "nbconvert_exporter": "python",
   "pygments_lexer": "ipython3",
   "version": "3.7.6"
  }
 },
 "nbformat": 4,
 "nbformat_minor": 2
}
