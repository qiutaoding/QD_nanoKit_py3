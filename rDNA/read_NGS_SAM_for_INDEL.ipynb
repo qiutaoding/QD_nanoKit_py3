{
 "cells": [
  {
   "cell_type": "code",
   "execution_count": 8,
   "metadata": {},
   "outputs": [],
   "source": [
    "import os\n",
    "import sys\n",
    "#split record in the SAM file\n",
    "import pandas as pd\n",
    "#check cigar string \n",
    "import re"
   ]
  },
  {
   "cell_type": "code",
   "execution_count": 9,
   "metadata": {},
   "outputs": [],
   "source": [
    "#move to working directory \n",
    "os.chdir('/mnt/f/nanopore_data/rDNA/recall_rdna_analysis/SNP/for_new_variant/')"
   ]
  },
  {
   "cell_type": "markdown",
   "metadata": {},
   "source": [
    "## Example\n",
    "### From reads to SAM file\n",
    "Map ONT reads to single copy of rDNA unit sequences with Minimap2  \n",
    "`minimap2 -ax map-ont cel_5S_rDNA.fa N2EM_5S_rDNA_ONT_reads.fa > sam/N2EM_5S.sam`  \n",
    "\n",
    "### From BAM file to SAM file  \n",
    "`samtools view -h bam/N2EM_5S_sort.bam > sam/N2EM_5S.sam`\n",
    "\n",
    "### Structure of files  \n",
    "sam/  \n",
    "------N2EM_5S.sam  \n",
    "------...  \n",
    "indel_df/  \n",
    "------N2EM_5S_bin_2.tsv  \n",
    "------N2EM_5S_bin_5.tsv  \n",
    "------N2EM_5S_bin_10.tsv  \n",
    "------...  \n",
    "    "
   ]
  },
  {
   "cell_type": "code",
   "execution_count": 10,
   "metadata": {},
   "outputs": [],
   "source": [
    "#Build functions\n",
    "#range is optimized for 5S rDNAs\n",
    "def ReadCigar2df(start, cigar_string, bin_set = 1):\n",
    "    global indel_df\n",
    "    for num , IDM in re.findall('(\\d+)([IDM])', cigar_string):\n",
    "        if IDM == 'M':\n",
    "            start += int(num)\n",
    "            continue\n",
    "        #print(num, IDM, start)\n",
    "        if IDM == \"D\":\n",
    "            if (int(num) > int(bin_set)) and (int(num) <100):\n",
    "                for i in range( start-1 ,start + int(num)-1):\n",
    "                    indel_df.DEL[i] += 1\n",
    "            start += int(num)\n",
    "        if IDM == \"I\":               \n",
    "            if (int(num) > int(bin_set)) and (int(num) <100):\n",
    "                for i in range( start ,start + int(num)):\n",
    "                    indel_df.INS[i] += 1\n",
    "#range is optimized for 45S rDNAs\n",
    "def Read_45SrDNA_Cigar2df(start, cigar_string, bin_set = 2):\n",
    "    global indel_df\n",
    "    for num , IDM in re.findall('(\\d+)([IDM])', cigar_string):\n",
    "        if IDM == 'M':\n",
    "            start += int(num)\n",
    "            continue\n",
    "        #print(num, IDM, start)\n",
    "        if IDM == \"D\":\n",
    "            if int(num) > int(bin_set):\n",
    "                for i in range( start-1 ,start + int(num)-1):\n",
    "                    indel_df.DEL[i] += 1\n",
    "            start += int(num)\n",
    "        if IDM == \"I\":\n",
    "            if int(num) > int(bin_set):\n",
    "                for i in range( start ,start + int(num)):\n",
    "                    indel_df.INS[i] += 1"
   ]
  },
  {
   "cell_type": "code",
   "execution_count": 13,
   "metadata": {},
   "outputs": [
    {
     "name": "stdout",
     "output_type": "stream",
     "text": [
      "161500 cigar processed\n",
      "Extracted 161980 records of cigar to file with INDEL size > 0\n",
      "\n"
     ]
    }
   ],
   "source": [
    "# for 5S rDNA \n",
    "stage = \"cendr_CB4856\"\n",
    "#stage can be N2EM, N2L1, N2YA, CB4856, AF16\n",
    "rDNA = \"5S\"\n",
    "fname = stage + \"_\" + rDNA + \".sam\" \n",
    "bin_set = 0\n",
    "#set_bin = [2,5,10] #minimal length of INDEL (not included)in the cigar string\n",
    "#for bin_set in set_bin:\n",
    "counter = 0\n",
    "#make empty df to load indel with bin size \n",
    "indel_df = pd.DataFrame({\"pos\": list(range(1,1001))})\n",
    "indel_df[\"DEL\"] = [0]*1000\n",
    "indel_df[\"INS\"] = [0]*1000\n",
    "indel_fname =  \"indel_df/\" + stage + \"_\" + rDNA + \"_bin_\" + str(bin_set) + \".tsv\" \n",
    "with open(fname , \"r\") as samfile:\n",
    "    for _ in range(2): #skip the first 2 rows in the SAM file\n",
    "        next(samfile)\n",
    "    for line in samfile:   \n",
    "        sam_content = line.split(\"\\t\")\n",
    "        flag = sam_content[1]\n",
    "        if flag != 4 :\n",
    "            counter += 1\n",
    "            pos = int(sam_content[3])\n",
    "            cigar = str(sam_content[5])\n",
    "            ReadCigar2df(pos, cigar , bin_set)\n",
    "            if counter%500 == 0: \n",
    "                sys.stdout.write('\\r'+\"{} cigar processed\".format(counter))\n",
    "                sys.stdout.flush()\n",
    "    indel_df.to_csv(indel_fname, index=False, header=True, sep=\"\\t\")\n",
    "print(\"\\nExtracted {} records of cigar to file with INDEL size > {}\\n\".format(counter , bin_set))"
   ]
  },
  {
   "cell_type": "code",
   "execution_count": 12,
   "metadata": {},
   "outputs": [
    {
     "name": "stdout",
     "output_type": "stream",
     "text": [
      "2279000 cigar processed\n",
      "Extracted 2279419 records of cigar to file with minimal INDEL size 0\n",
      "\n"
     ]
    }
   ],
   "source": [
    "# for 45S rDNA\n",
    "stage = \"cendr_CB4856\"\n",
    "rDNA = \"45S\"\n",
    "fname = stage + \"_\" + rDNA + \".sam\" \n",
    "#set_bin = [2,5,10]\n",
    "bin_set= 0\n",
    "#for bin_set in set_bin:\n",
    "counter = 0\n",
    "#make empty df to load indel with bin size \n",
    "indel_df = pd.DataFrame({\"pos\": list(range(1,7601))})\n",
    "indel_df[\"DEL\"] = [0] * 7600\n",
    "indel_df[\"INS\"] = [0] * 7600\n",
    "indel_fname =  \"indel_df/\" + stage + \"_\" + rDNA + \"_bin_\" + str(bin_set) + \".tsv\" \n",
    "with open(fname , \"r\") as samfile:\n",
    "    for _ in range(2): #skip the first 2 rows in the SAM file\n",
    "        next(samfile)\n",
    "    for line in samfile:    \n",
    "        sam_content = line.split(\"\\t\")\n",
    "        flag = sam_content[1]\n",
    "        if flag != 4 :\n",
    "            counter += 1\n",
    "            pos = int(sam_content[3])\n",
    "            cigar = str(sam_content[5])\n",
    "            Read_45SrDNA_Cigar2df(pos, cigar , bin_set)\n",
    "            if counter%500 == 0: \n",
    "                sys.stdout.write('\\r'+\"{} cigar processed\".format(counter))\n",
    "                sys.stdout.flush()\n",
    "    indel_df.to_csv(indel_fname, index=False, header=True, sep=\"\\t\")\n",
    "print(\"\\nExtracted {} records of cigar to file with minimal INDEL size {}\\n\".format(counter , bin_set))"
   ]
  },
  {
   "cell_type": "markdown",
   "metadata": {},
   "source": [
    "The output file could be used for plotting using the provided Rscript in Rstudio.  "
   ]
  }
 ],
 "metadata": {
  "kernelspec": {
   "display_name": "Python 3",
   "language": "python",
   "name": "python3"
  },
  "language_info": {
   "codemirror_mode": {
    "name": "ipython",
    "version": 3
   },
   "file_extension": ".py",
   "mimetype": "text/x-python",
   "name": "python",
   "nbconvert_exporter": "python",
   "pygments_lexer": "ipython3",
   "version": "3.7.6"
  }
 },
 "nbformat": 4,
 "nbformat_minor": 4
}
