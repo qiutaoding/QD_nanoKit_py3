{
 "cells": [
  {
   "cell_type": "code",
   "execution_count": 30,
   "metadata": {},
   "outputs": [],
   "source": [
    "import os\n",
    "import sys\n",
    "import pandas as pd\n",
    "from Bio import SeqIO\n",
    "from Bio import Seq\n",
    "import pysam\n",
    "import re"
   ]
  },
  {
   "cell_type": "code",
   "execution_count": 8,
   "metadata": {},
   "outputs": [],
   "source": [
    "#change to working directory \n",
    "os.chdir('/mnt/d/rDNA/')"
   ]
  },
  {
   "cell_type": "code",
   "execution_count": 102,
   "metadata": {},
   "outputs": [],
   "source": [
    "#range is optimized for 5S rDNAs\n",
    "def ReadCigar2df(start, cigar_string, bin_set = 2):\n",
    "    global indel_df\n",
    "    for num , IDM in re.findall('(\\d+)([IDM])', cigar_string):\n",
    "        if IDM == 'M':\n",
    "            start += int(num)\n",
    "            continue\n",
    "        #print(num, IDM, start)\n",
    "        if IDM == \"D\":\n",
    "            if int(num) > int(bin_set):\n",
    "                for i in range( start ,start + int(num)):\n",
    "                    indel_df.DEL[i] += 1\n",
    "            start += int(num)\n",
    "        if IDM == \"I\":\n",
    "            if int(num) > int(bin_set):\n",
    "                for i in range( start ,start + int(num)):\n",
    "                    if i < 1000:#prevent end exceed of end insertions from supplementary alignmetn cigar\n",
    "                        indel_df.INS[i] += 1"
   ]
  },
  {
   "cell_type": "code",
   "execution_count": 112,
   "metadata": {},
   "outputs": [
    {
     "name": "stdout",
     "output_type": "stream",
     "text": [
      "11159 cigar processed\n",
      "Extracted 11159 records of cigar to file with minimal INDEL size 2\n",
      "\n",
      "11159 cigar processed\n",
      "Extracted 11159 records of cigar to file with minimal INDEL size 5\n",
      "\n",
      "11159 cigar processed\n",
      "Extracted 11159 records of cigar to file with minimal INDEL size 10\n",
      "\n"
     ]
    }
   ],
   "source": [
    "stage = \"N2YA\"\n",
    "rDNA = \"5S\"\n",
    "fname = \"sam/\" + stage + \"_\" + rDNA + \".sam\" \n",
    "set_bin = [2,5,10]\n",
    "for bin_set in set_bin:\n",
    "    counter = 0\n",
    "    #make empty df to load indel with bin size \n",
    "    indel_df = pd.DataFrame({\"pos\": list(range(1,1001))})\n",
    "    indel_df[\"DEL\"] = [0]*1000\n",
    "    indel_df[\"INS\"] = [0]*1000\n",
    "    indel_fname =  \"indel_df/\" + stage + \"_\" + rDNA + \"_bin_\" + str(bin_set) + \".tsv\" \n",
    "    with open(fname , \"r\") as samfile:\n",
    "        for _ in range(4):\n",
    "            next(samfile)\n",
    "        for line in samfile:    \n",
    "            sam_content = line.split(\"\\t\")\n",
    "            flag = sam_content[1]\n",
    "            if flag != 4 :\n",
    "                counter += 1\n",
    "                pos = int(sam_content[3])\n",
    "                cigar = str(sam_content[5])\n",
    "                ReadCigar2df(pos, cigar , bin_set)\n",
    "                sys.stdout.write('\\r'+\"{} cigar processed\".format(counter))\n",
    "        indel_df.to_csv(indel_fname, index=False, header=True, sep=\"\\t\")\n",
    "    print(\"\\nExtracted {} records of cigar to file with minimal INDEL size {}\\n\".format(counter , bin_set))"
   ]
  },
  {
   "cell_type": "markdown",
   "metadata": {},
   "source": [
    "# move to Rstudio for plotting  \n"
   ]
  },
  {
   "cell_type": "code",
   "execution_count": null,
   "metadata": {},
   "outputs": [],
   "source": []
  }
 ],
 "metadata": {
  "kernelspec": {
   "display_name": "Python 3",
   "language": "python",
   "name": "python3"
  },
  "language_info": {
   "codemirror_mode": {
    "name": "ipython",
    "version": 3
   },
   "file_extension": ".py",
   "mimetype": "text/x-python",
   "name": "python",
   "nbconvert_exporter": "python",
   "pygments_lexer": "ipython3",
   "version": "3.7.4"
  }
 },
 "nbformat": 4,
 "nbformat_minor": 4
}
