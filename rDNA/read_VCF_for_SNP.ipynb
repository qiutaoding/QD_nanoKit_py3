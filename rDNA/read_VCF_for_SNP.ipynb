{
 "cells": [
  {
   "cell_type": "code",
   "execution_count": 1,
   "metadata": {},
   "outputs": [],
   "source": [
    "import os\n",
    "import sys\n",
    "#split record in the SAM file\n",
    "import pandas as pd\n",
    "#check cigar string \n",
    "import re\n",
    "#move to working directory \n",
    "os.chdir('/mnt/f/nanopore_data/rDNA/recall_rdna_analysis/SNP/for_new_variant/')"
   ]
  },
  {
   "cell_type": "code",
   "execution_count": 4,
   "metadata": {},
   "outputs": [],
   "source": [
    "# for 5S rDNA \n",
    "stage = \"CB4856\"\n",
    "rDNA = \"5S\"\n",
    "fname = \"VCF/\"+stage + \"_\" + rDNA + \"_ngs.vcf\" \n",
    "#make empty df to load indel with bin size \n",
    "SNP_df = pd.DataFrame({\"pos\": list(range(1,1001))})\n",
    "SNP_df[\"SNP\"] = [0]*1000\n",
    "SNP_fname =  \"VCF/\" + stage + \"_\" + rDNA + \"_SNP_proportion_NGS.tsv\" "
   ]
  },
  {
   "cell_type": "code",
   "execution_count": 10,
   "metadata": {},
   "outputs": [
    {
     "name": "stdout",
     "output_type": "stream",
     "text": [
      "Finished\n"
     ]
    }
   ],
   "source": [
    "with open(fname , \"r\") as vcfile:\n",
    "    for _ in range(22): #skip the first 2 rows in the SAM file\n",
    "        next(vcfile)\n",
    "    for line in vcfile:\n",
    "        vcf_content = line.split(\"\\t\")\n",
    "        POS = int(vcf_content[1].rstrip())\n",
    "        if  str(vcf_content[7].split(\";\")[0]) != \"INDEL\":\n",
    "            SNP_probablity = float(1-float(vcf_content[7].split(\";\")[2][3:].split(\",\")[0]))\n",
    "            SNP_df.SNP[POS-1] = SNP_probablity*1000 #(.001 * 1000 =1)\n",
    "\n",
    "SNP_df.to_csv(SNP_fname, index=False, header=True, sep=\"\\t\", float_format='%.3f')\n",
    "vcfile.close()\n",
    "print(\"Finished\")"
   ]
  },
  {
   "cell_type": "code",
   "execution_count": null,
   "metadata": {},
   "outputs": [],
   "source": []
  }
 ],
 "metadata": {
  "kernelspec": {
   "display_name": "Python 3",
   "language": "python",
   "name": "python3"
  },
  "language_info": {
   "codemirror_mode": {
    "name": "ipython",
    "version": 3
   },
   "file_extension": ".py",
   "mimetype": "text/x-python",
   "name": "python",
   "nbconvert_exporter": "python",
   "pygments_lexer": "ipython3",
   "version": "3.7.6"
  }
 },
 "nbformat": 4,
 "nbformat_minor": 4
}
